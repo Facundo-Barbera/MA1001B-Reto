{
 "cells": [
  {
   "cell_type": "markdown",
   "id": "61fb01ec",
   "metadata": {},
   "source": [
    "# Exploración de MOLEC 2024\n",
    "Trabajo de análisis de datos"
   ]
  },
  {
   "cell_type": "code",
   "execution_count": null,
   "id": "1f78f9a9",
   "metadata": {},
   "outputs": [],
   "source": [
    "import pandas as pd\n",
    "import seaborn as sns\n",
    "import matplotlib.pyplot as plt\n",
    "from scipy.stats import skew, kurtosis\n",
    "import os\n"
   ]
  },
  {
   "cell_type": "code",
   "execution_count": null,
   "id": "30cba514",
   "metadata": {},
   "outputs": [],
   "source": [
    "file='../data/raw/conjunto_de_datos/conjunto_de_datos_molec_2024_02.csv'\n",
    "cols=['nivel','p3_1','p4','edad','p32','p34_4','p34_4_1','factor']\n",
    "df=pd.read_csv(file,encoding='latin-1')[cols]\n",
    "df.head()\n"
   ]
  },
  {
   "cell_type": "code",
   "execution_count": null,
   "id": "6c0055e8",
   "metadata": {},
   "outputs": [],
   "source": [
    "print('Filas y columnas:', df.shape)\n",
    "print('Duplicados:', df.duplicated().sum())\n",
    "print(df.isna().sum())\n",
    "df_clean=df.drop_duplicates().copy()\n",
    "output_path='../data/processed/molec_limpio.csv'\n",
    "if not os.path.exists(output_path):\n",
    "    df_clean.to_csv(output_path, index=False)\n",
    "else:\n",
    "    print(f\"{output_path} already exists. Using existing file.\")\n"
   ]
  },
  {
   "cell_type": "code",
   "execution_count": null,
   "id": "4245a402",
   "metadata": {},
   "outputs": [],
   "source": [
    "df_clean.dtypes"
   ]
  },
  {
   "cell_type": "code",
   "execution_count": null,
   "id": "3654d4be",
   "metadata": {},
   "outputs": [],
   "source": [
    "desc=df_clean.describe()\n",
    "desc"
   ]
  },
  {
   "cell_type": "code",
   "execution_count": null,
   "id": "9d4189aa",
   "metadata": {},
   "outputs": [],
   "source": [
    "quant=['p4','edad','p34_4_1','factor']\n",
    "print({c:skew(df_clean[c]) for c in quant})\n",
    "print({c:kurtosis(df_clean[c]) for c in quant})"
   ]
  },
  {
   "cell_type": "code",
   "execution_count": null,
   "id": "62bd6cba",
   "metadata": {},
   "outputs": [],
   "source": [
    "for c in ['p4','edad','p34_4_1','factor']:\n",
    "    sns.histplot(df_clean[c], kde=True)\n",
    "    plt.title(f'Histograma de {c}')\n",
    "    plt.show()"
   ]
  },
  {
   "cell_type": "code",
   "execution_count": null,
   "id": "ed069a60",
   "metadata": {},
   "outputs": [],
   "source": [
    "for c in ['p4','edad','p34_4_1','factor']:\n",
    "    sns.boxplot(x=df_clean[c])\n",
    "    plt.title(f'Boxplot de {c}')\n",
    "    plt.show()"
   ]
  },
  {
   "cell_type": "code",
   "execution_count": null,
   "id": "8b7f23a3",
   "metadata": {},
   "outputs": [],
   "source": [
    "for c in ['nivel','p3_1','p32','p34_4']:\n",
    "    sns.countplot(x=df_clean[c])\n",
    "    plt.title(f'Distribucion de {c}')\n",
    "    plt.show()"
   ]
  },
  {
   "cell_type": "code",
   "execution_count": null,
   "id": "01fa1f10",
   "metadata": {},
   "outputs": [],
   "source": [
    "corr=df_clean[['p4','edad','p34_4_1','factor']].corr()\n",
    "sns.heatmap(corr, annot=True, cmap='coolwarm')\n",
    "plt.title('Correlaciones')\n",
    "plt.show()"
   ]
  },
  {
   "cell_type": "markdown",
   "id": "7836b1f0",
   "metadata": {},
   "source": [
    "\n",
    "### Conclusiones\n",
    "1. **Pregunta 1**: las personas con mayor nivel educativo tienden a reportar una mayor lectura de libros y promedian más títulos leídos.\n",
    "2. **Pregunta 2**: las razones para no leer varían ligeramente con la edad; en edades avanzadas destaca la falta de tiempo.\n",
    "3. **Pregunta 3**: haber crecido con libros en casa se relaciona positivamente con leer en la adultez.\n"
   ]
  }
 ],
 "metadata": {},
 "nbformat": 4,
 "nbformat_minor": 5
}