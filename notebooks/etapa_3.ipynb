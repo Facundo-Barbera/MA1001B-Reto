{
 "cells": [
  {
   "metadata": {},
   "cell_type": "markdown",
   "source": [
    "# Análisis inferencial\n",
    "\n",
    "Este notebook busca crear un análisis inferencial de los datos explorados en la etapa 2. Se busca responde a las siguientes preguntas mediante a la definición de intervalos de confianza y pruebas de hipótesis:\n",
    "\n",
    "- ¿Qué relación existe entre el nivel educativo y el hábito de lectura de libros en México?\n",
    "- ¿Cómo influye la disponibilidad de libros en el hogar durante la infancia en los hábitos de lectura en la adultez?"
   ],
   "id": "c689220d72b405bb"
  },
  {
   "metadata": {},
   "cell_type": "markdown",
   "source": [
    "## Definición de valores iniciales\n",
    "\n",
    "Para el análisis inferencial debemos definir las hipótesis nula y alternativa, así como los valores iniciales que nos permitan realizar las pruebas de hipótesis y calcular los intervalos de confianza.\n",
    "\n",
    "### Pregunta 1\n",
    "\n",
    "- **Hipótesis nula (H0)**: Las proporciones de personas que leen son iguales en los distintos niveles educativos.\n",
    "- **Hipótesis alternativa (H1)**: Al menos una proporción es diferente entre los niveles educativos.\n",
    "\n",
    "Las proporciones de lectura en los distintos niveles educativos son:\n",
    "- P_bajo: 0, 1, 2, 3\n",
    "- P_medio: 4, 5, 6\n",
    "- P_alto: 7, 8, 9\n",
    "\n",
    "Las variables que se utilizarán para el análisis son:\n",
    "- `nivel`: Nivel educativo (1 a 9)\n",
    "- `p3_1`: Se leyeron libros en los últimos 12 meses\n",
    "- `p4`: Número de libros leídos en los últimos 12 meses\n",
    "\n",
    "## Pregunta 2\n",
    "\n",
    "- **Hipótesis nula (H0)**: Las proporciones de lectura en adultez son iguales entre los niveles de disponibilidad de libros en la infancia.\n",
    "- **Hipótesis alternativa (H1)**: Al menos una proporción es diferente entre los niveles de disponibilidad de libros en la infancia.\n",
    "\n",
    "Las proporciones de lectura en los distintos niveles de disponibilidad de libros en la infancia son:\n",
    "- P_bajo: 0, 1\n",
    "- P_medio: 2, 3\n",
    "- P_alto: 4, 5, 6\n",
    "\n",
    "Las variables que se utilizarán para el análisis son:\n",
    "- `p34_4`: Disponibilidad de libros en la infancia\n",
    "- `p34_4_1`: Cantidad de libros de la variante anterior\n",
    "- `p3_1`: Se leyeron libros en los últimos 12 meses"
   ],
   "id": "849cd43004a5e1ea"
  },
  {
   "cell_type": "code",
   "id": "initial_id",
   "metadata": {
    "collapsed": true,
    "ExecuteTime": {
     "end_time": "2025-07-29T01:43:22.658318Z",
     "start_time": "2025-07-29T01:43:22.655936Z"
    }
   },
   "source": [
    "import pandas as pd\n",
    "import numpy as np\n",
    "import math\n",
    "from scipy.stats import norm"
   ],
   "outputs": [],
   "execution_count": 59
  },
  {
   "metadata": {
    "ExecuteTime": {
     "end_time": "2025-07-29T01:43:22.668871Z",
     "start_time": "2025-07-29T01:43:22.662323Z"
    }
   },
   "cell_type": "code",
   "source": [
    "csv_path = \"../data/processed/encuesta_limpia.csv\"\n",
    "df = pd.read_csv(csv_path, encoding=\"latin-1\", low_memory=False)\n",
    "df.columns = [c.strip().lower() for c in df.columns]"
   ],
   "id": "64eda85b5f2bfe4b",
   "outputs": [],
   "execution_count": 60
  },
  {
   "metadata": {
    "ExecuteTime": {
     "end_time": "2025-07-29T01:43:22.692583Z",
     "start_time": "2025-07-29T01:43:22.686661Z"
    }
   },
   "cell_type": "code",
   "source": [
    "df = df[(df[\"p3_1\"] != 0) & (df[\"p3_4\"] != 0)].copy()\n",
    "df[\"lector\"] = (df[\"p3_1\"] == 1).astype(int)\n",
    "\n",
    "\n",
    "def map_edu(n):\n",
    "    if n <= 4:  return \"Básico\"\n",
    "    if n <= 6:  return \"Medio\"\n",
    "    return \"Superior\"\n",
    "\n",
    "df[\"edu3\"] = df[\"nivel\"].map(map_edu)\n",
    "\n",
    "def map_inf(v):\n",
    "    if v in [0, 1, 2]: return \"Bajo\"\n",
    "    if v in [3, 4]:    return \"Medio\"\n",
    "    if v in [5, 6]:    return \"Alto\"\n",
    "    return np.nan\n",
    "\n",
    "df[\"infancia_grupo\"] = df[\"p34_4_1\"].map(map_inf)"
   ],
   "id": "ce8c18f4f6020cee",
   "outputs": [],
   "execution_count": 61
  },
  {
   "metadata": {
    "ExecuteTime": {
     "end_time": "2025-07-29T01:43:22.708017Z",
     "start_time": "2025-07-29T01:43:22.703853Z"
    }
   },
   "cell_type": "code",
   "source": [
    "alpha = 0.05\n",
    "\n",
    "def ci_prop(x, n, alpha=0.05):\n",
    "    z = norm.ppf(1 - alpha/2)\n",
    "    p = x / n\n",
    "    se = math.sqrt(p*(1-p)/n)\n",
    "    return p, p - z*se, p + z*se\n",
    "\n",
    "def ci_diff_prop(x1, n1, x2, n2, alpha=0.05):\n",
    "    z = norm.ppf(1 - alpha/2)\n",
    "    p1, p2 = x1/n1, x2/n2\n",
    "    se = math.sqrt(p1*(1-p1)/n1 + p2*(1-p2)/n2)\n",
    "    d = p1 - p2\n",
    "    return d, d - z*se, d + z*se\n",
    "\n",
    "def nota(lo, hi):\n",
    "    return \"diferencia clara\" if (lo > 0 or hi < 0) else \"no concluyente\""
   ],
   "id": "3405d75e38e7a0d9",
   "outputs": [],
   "execution_count": 62
  },
  {
   "metadata": {
    "ExecuteTime": {
     "end_time": "2025-07-29T01:43:22.730923Z",
     "start_time": "2025-07-29T01:43:22.721422Z"
    }
   },
   "cell_type": "code",
   "source": [
    "print(\"P1. Nivel educativo y hábito de lectura\\n\")\n",
    "\n",
    "n = len(df)\n",
    "x = int(df[\"lector\"].sum())\n",
    "p, lo, hi = ci_prop(x, n, alpha)\n",
    "print(f\"En total leen {x} de {n} personas, aproximadamente {p:.1%}.\")\n",
    "print(f\"Con 95% de confianza, la proporción real está entre {lo:.1%} y {hi:.1%}.\\n\")\n",
    "\n",
    "conteos_edu = {}\n",
    "print(\"Por nivel educativo:\")\n",
    "for g, sub in df.groupby(\"edu3\"):\n",
    "    n_g = len(sub)\n",
    "    x_g = int(sub[\"lector\"].sum())\n",
    "    p_g, lo_g, hi_g = ci_prop(x_g, n_g, alpha)\n",
    "    conteos_edu[g] = (x_g, n_g)\n",
    "    print(f\"- {g}: leen {x_g} de {n_g} ({p_g:.1%}). IC 95%: {lo_g:.1%} a {hi_g:.1%}.\")\n",
    "\n",
    "print(\"\\nComparaciones entre grupos:\")\n",
    "x_sup, n_sup = conteos_edu.get(\"Superior\", (0, 0))\n",
    "x_bas, n_bas = conteos_edu.get(\"Básico\",   (0, 0))\n",
    "x_med, n_med = conteos_edu.get(\"Medio\",    (0, 0))\n",
    "\n",
    "if n_sup>0 and n_bas>0:\n",
    "    d, lo, hi = ci_diff_prop(x_sup, n_sup, x_bas, n_bas, alpha)\n",
    "    print(f\"- Superior vs Básico: diferencia de {d:.1%}. IC 95%: {lo:.1%} a {hi:.1%} \"\n",
    "          f\"({nota(lo, hi)}).\")\n",
    "else:\n",
    "    print(\"- Superior vs Básico: datos insuficientes.\")\n",
    "\n",
    "if n_sup>0 and n_med>0:\n",
    "    d, lo, hi = ci_diff_prop(x_sup, n_sup, x_med, n_med, alpha)\n",
    "    print(f\"- Superior vs Medio:  diferencia de {d:.1%}. IC 95%: {lo:.1%} a {hi:.1%} \"\n",
    "          f\"({nota(lo, hi)}).\")\n",
    "else:\n",
    "    print(\"- Superior vs Medio: datos insuficientes.\")\n"
   ],
   "id": "11bb34f4b5b8a2e",
   "outputs": [
    {
     "name": "stdout",
     "output_type": "stream",
     "text": [
      "P1. Nivel educativo y hábito de lectura\n",
      "\n",
      "En total leen 809 de 1969 personas, aproximadamente 41.1%.\n",
      "Con 95% de confianza, la proporción real está entre 38.9% y 43.3%.\n",
      "\n",
      "Por nivel educativo:\n",
      "- Básico: leen 342 de 1186 (28.8%). IC 95%: 26.3% a 31.4%.\n",
      "- Medio: leen 69 de 155 (44.5%). IC 95%: 36.7% a 52.3%.\n",
      "- Superior: leen 398 de 628 (63.4%). IC 95%: 59.6% a 67.1%.\n",
      "\n",
      "Comparaciones entre grupos:\n",
      "- Superior vs Básico: diferencia de 34.5%. IC 95%: 30.0% a 39.1% (diferencia clara).\n",
      "- Superior vs Medio:  diferencia de 18.9%. IC 95%: 10.2% a 27.5% (diferencia clara).\n"
     ]
    }
   ],
   "execution_count": 63
  },
  {
   "metadata": {
    "ExecuteTime": {
     "end_time": "2025-07-29T01:43:22.753163Z",
     "start_time": "2025-07-29T01:43:22.746263Z"
    }
   },
   "cell_type": "code",
   "source": [
    "print(\"\\nP2. Libros en la infancia y hábito de lectura\\n\")\n",
    "\n",
    "conteos_inf = {}\n",
    "for g, sub in df.groupby(\"infancia_grupo\"):\n",
    "    n_g = len(sub)\n",
    "    x_g = int(sub[\"lector\"].sum())\n",
    "    p_g, lo_g, hi_g = ci_prop(x_g, n_g, alpha)\n",
    "    conteos_inf[g] = (x_g, n_g)\n",
    "    print(f\"- {g}: leen {x_g} de {n_g} ({p_g:.1%}). IC 95%: {lo_g:.1%} a {hi_g:.1%}.\")\n",
    "\n",
    "print(\"\\nComparación clave (Alto vs Bajo):\")\n",
    "x_alt, n_alt = conteos_inf.get(\"Alto\", (0, 0))\n",
    "x_baj, n_baj = conteos_inf.get(\"Bajo\", (0, 0))\n",
    "if n_alt>0 and n_baj>0:\n",
    "    d, lo, hi = ci_diff_prop(x_alt, n_alt, x_baj, n_baj, alpha)\n",
    "    print(f\"- Diferencia de {d:.1%}. IC 95%: {lo:.1%} a {hi:.1%} ({nota(lo, hi)}).\")\n",
    "else:\n",
    "    print(\"- Datos insuficientes para comparar.\")\n"
   ],
   "id": "c73aa03dd8e9805a",
   "outputs": [
    {
     "name": "stdout",
     "output_type": "stream",
     "text": [
      "\n",
      "P2. Libros en la infancia y hábito de lectura\n",
      "\n",
      "- Alto: leen 54 de 72 (75.0%). IC 95%: 65.0% a 85.0%.\n",
      "- Bajo: leen 664 de 1752 (37.9%). IC 95%: 35.6% a 40.2%.\n",
      "- Medio: leen 91 de 145 (62.8%). IC 95%: 54.9% a 70.6%.\n",
      "\n",
      "Comparación clave (Alto vs Bajo):\n",
      "- Diferencia de 37.1%. IC 95%: 26.8% a 47.4% (diferencia clara).\n"
     ]
    }
   ],
   "execution_count": 64
  }
 ],
 "metadata": {
  "kernelspec": {
   "display_name": "Python 3",
   "language": "python",
   "name": "python3"
  },
  "language_info": {
   "codemirror_mode": {
    "name": "ipython",
    "version": 2
   },
   "file_extension": ".py",
   "mimetype": "text/x-python",
   "name": "python",
   "nbconvert_exporter": "python",
   "pygments_lexer": "ipython2",
   "version": "2.7.6"
  }
 },
 "nbformat": 4,
 "nbformat_minor": 5
}
