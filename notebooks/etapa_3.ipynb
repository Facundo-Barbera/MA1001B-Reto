{
 "cells": [
  {
   "metadata": {},
   "cell_type": "markdown",
   "source": [
    "# Análisis inferencial\n",
    "\n",
    "Este notebook busca crear un análisis inferencial de los datos explorados en la etapa 2. Se busca responde a las siguientes preguntas mediante a la definición de intervalos de confianza y pruebas de hipótesis:\n",
    "\n",
    "- ¿Qué relación existe entre el nivel educativo y el hábito de lectura de libros en México?\n",
    "- ¿Cómo influye la disponibilidad de libros en el hogar durante la infancia en los hábitos de lectura en la adultez?"
   ],
   "id": "c689220d72b405bb"
  },
  {
   "metadata": {},
   "cell_type": "markdown",
   "source": [
    "## Definición de valores iniciales\n",
    "\n",
    "Para el análisis inferencial debemos definir las hipótesis nula y alternativa, así como los valores iniciales que nos permitan realizar las pruebas de hipótesis y calcular los intervalos de confianza.\n",
    "\n",
    "### Pregunta 1\n",
    "\n",
    "- **Hipótesis nula (H0)**: Las proporciones de personas que leen son iguales en los distintos niveles educativos.\n",
    "- **Hipótesis alternativa (H1)**: Al menos una proporción es diferente entre los niveles educativos.\n",
    "\n",
    "Las proporciones de lectura en los distintos niveles educativos son:\n",
    "- P_bajo: 0, 1, 2, 3\n",
    "- P_medio: 4, 5, 6\n",
    "- P_alto: 7, 8, 9\n",
    "\n",
    "Las variables que se utilizarán para el análisis son:\n",
    "- `nivel`: Nivel educativo (1 a 9)\n",
    "- `p3_1`: Se leyeron libros en los últimos 12 meses\n",
    "- `p4`: Número de libros leídos en los últimos 12 meses\n",
    "\n",
    "## Pregunta 2\n",
    "\n",
    "- **Hipótesis nula (H0)**: Las proporciones de lectura en adultez son iguales entre los niveles de disponibilidad de libros en la infancia.\n",
    "- **Hipótesis alternativa (H1)**: Al menos una proporción es diferente entre los niveles de disponibilidad de libros en la infancia.\n",
    "\n",
    "Las proporciones de lectura en los distintos niveles de disponibilidad de libros en la infancia son:\n",
    "- P_bajo: 0, 1\n",
    "- P_medio: 2, 3\n",
    "- P_alto: 4, 5, 6\n",
    "\n",
    "Las variables que se utilizarán para el análisis son:\n",
    "- `p34_4`: Disponibilidad de libros en la infancia\n",
    "- `p34_4_1`: Cantidad de libros de la variante anterior\n",
    "- `p3_1`: Se leyeron libros en los últimos 12 meses"
   ],
   "id": "849cd43004a5e1ea"
  },
  {
   "cell_type": "code",
   "id": "initial_id",
   "metadata": {
    "collapsed": true,
    "ExecuteTime": {
     "end_time": "2025-07-29T00:33:45.241730Z",
     "start_time": "2025-07-29T00:33:45.238616Z"
    }
   },
   "source": [
    "import pandas as pd\n",
    "import numpy as np\n",
    "from math import sqrt\n",
    "from scipy.stats import norm"
   ],
   "outputs": [],
   "execution_count": 19
  },
  {
   "metadata": {
    "ExecuteTime": {
     "end_time": "2025-07-29T00:33:45.258751Z",
     "start_time": "2025-07-29T00:33:45.254752Z"
    }
   },
   "cell_type": "code",
   "source": [
    "alpha = 0.05\n",
    "z = norm.ppf(1 - alpha/2)\n",
    "\n",
    "def ci_prop(x, n, alpha=0.05):\n",
    "    z = norm.ppf(1 - alpha/2)\n",
    "    p = x / n\n",
    "    se = sqrt(p*(1-p)/n)\n",
    "    return p, p - z*se, p + z*se\n",
    "\n",
    "def ci_diff_prop(x1, n1, x2, n2, alpha=0.05):\n",
    "    z = norm.ppf(1 - alpha/2)\n",
    "    p1, p2 = x1/n1, x2/n2\n",
    "    se = sqrt(p1*(1-p1)/n1 + p2*(1-p2)/n2)\n",
    "    d = p1 - p2\n",
    "    return d, d - z*se, d + z*se"
   ],
   "id": "81ba654c6b8283d3",
   "outputs": [],
   "execution_count": 20
  },
  {
   "metadata": {
    "ExecuteTime": {
     "end_time": "2025-07-29T00:33:45.272876Z",
     "start_time": "2025-07-29T00:33:45.265268Z"
    }
   },
   "cell_type": "code",
   "source": [
    "csv_path = \"../data/processed/dataframe_limpio.csv\"\n",
    "df = pd.read_csv(csv_path).copy()\n",
    "\n",
    "\n",
    "df[\"lector\"] = (df[\"p31\"] == 1).astype(int)\n",
    "\n",
    "def map_edu(n):\n",
    "    if n <= 4:  return \"Básico\"\n",
    "    if n <= 6:  return \"Medio\"\n",
    "    return \"Superior\"\n",
    "\n",
    "df[\"edu3\"] = df[\"nivel\"].map(map_edu)\n",
    "\n",
    "def map_inf(x):\n",
    "    if x in [1, 2]: return \"Bajo\"\n",
    "    if x in [3, 4]: return \"Medio\"\n",
    "    if x in [5, 6]: return \"Alto\"\n",
    "    return np.nan\n",
    "\n",
    "df[\"infancia_libros\"] = df[\"p34_4_1\"].map(map_inf)\n"
   ],
   "id": "9bc108da4fa59bba",
   "outputs": [],
   "execution_count": 21
  },
  {
   "metadata": {
    "ExecuteTime": {
     "end_time": "2025-07-29T00:33:45.296395Z",
     "start_time": "2025-07-29T00:33:45.292447Z"
    }
   },
   "cell_type": "code",
   "source": [
    "# Proporción total\n",
    "n = len(df); x = int(df[\"lector\"].sum())\n",
    "p, lo, hi = ci_prop(x, n, alpha)\n",
    "print(f\"En toda la muestra leen {x} de {n} personas ({p:.1%}).\")\n",
    "print(f\"Con 95% de confianza, la proporción real está entre {lo:.1%} y {hi:.1%}.\\n\")"
   ],
   "id": "5b14e9e619652a01",
   "outputs": [
    {
     "name": "stdout",
     "output_type": "stream",
     "text": [
      "En toda la muestra leen 319 de 582 personas (54.8%).\n",
      "Con 95% de confianza, la proporción real está entre 50.8% y 58.9%.\n",
      "\n"
     ]
    }
   ],
   "execution_count": 22
  },
  {
   "metadata": {
    "ExecuteTime": {
     "end_time": "2025-07-29T00:33:45.329164Z",
     "start_time": "2025-07-29T00:33:45.320659Z"
    }
   },
   "cell_type": "code",
   "source": [
    "def nota_conclusion(lo, hi):\n",
    "    # Si el IC completo está arriba de 0 o abajo de 0, la diferencia es clara.\n",
    "    if lo > 0 or hi < 0:\n",
    "        return \"diferencia clara\"\n",
    "    return \"no concluyente\"\n",
    "\n",
    "print(\"P1. Relación entre nivel educativo y hábito de lectura\\n\")\n",
    "\n",
    "# Por grupo educativo\n",
    "conteos_edu = {}\n",
    "print(\"Por nivel educativo:\")\n",
    "for g, sub in df.groupby(\"edu3\"):\n",
    "    n_g = len(sub); x_g = int(sub[\"lector\"].sum())\n",
    "    p_g, lo_g, hi_g = ci_prop(x_g, n_g, alpha)\n",
    "    conteos_edu[g] = (x_g, n_g)\n",
    "    print(f\"- {g}: leen {x_g} de {n_g} ({p_g:.1%}). IC 95%: {lo_g:.1%} a {hi_g:.1%}.\")\n",
    "print()\n",
    "\n",
    "# Diferencias clave\n",
    "x_sup, n_sup = conteos_edu.get(\"Superior\", (0, 0))\n",
    "x_bas, n_bas = conteos_edu.get(\"Básico\",   (0, 0))\n",
    "x_med, n_med = conteos_edu.get(\"Medio\",    (0, 0))\n",
    "\n",
    "print(\"Comparaciones entre grupos:\")\n",
    "if n_sup>0 and n_bas>0:\n",
    "    d, lo, hi = ci_diff_prop(x_sup, n_sup, x_bas, n_bas, alpha)\n",
    "    print(f\"- Superior vs Básico: diferencia de {d:.1%}. IC 95%: {lo:.1%} a {hi:.1%} \"\n",
    "          f\"({nota_conclusion(lo, hi)}).\")\n",
    "else:\n",
    "    print(\"- Superior vs Básico: no hay suficientes datos.\")\n",
    "\n",
    "if n_sup>0 and n_med>0:\n",
    "    d, lo, hi = ci_diff_prop(x_sup, n_sup, x_med, n_med, alpha)\n",
    "    print(f\"- Superior vs Medio: diferencia de {d:.1%}. IC 95%: {lo:.1%} a {hi:.1%} \"\n",
    "          f\"({nota_conclusion(lo, hi)}).\")\n",
    "else:\n",
    "    print(\"- Superior vs Medio: no hay suficientes datos.\")\n"
   ],
   "id": "5451fbb7e0dbec58",
   "outputs": [
    {
     "name": "stdout",
     "output_type": "stream",
     "text": [
      "P1. Relación entre nivel educativo y hábito de lectura\n",
      "\n",
      "Por nivel educativo:\n",
      "- Básico: leen 103 de 199 (51.8%). IC 95%: 44.8% a 58.7%.\n",
      "- Medio: leen 22 de 48 (45.8%). IC 95%: 31.7% a 59.9%.\n",
      "- Superior: leen 194 de 335 (57.9%). IC 95%: 52.6% a 63.2%.\n",
      "\n",
      "Comparaciones entre grupos:\n",
      "- Superior vs Básico: diferencia de 6.2%. IC 95%: -2.6% a 14.9% (no concluyente).\n",
      "- Superior vs Medio: diferencia de 12.1%. IC 95%: -3.0% a 27.1% (no concluyente).\n"
     ]
    }
   ],
   "execution_count": 23
  },
  {
   "metadata": {
    "ExecuteTime": {
     "end_time": "2025-07-29T00:33:45.351259Z",
     "start_time": "2025-07-29T00:33:45.343680Z"
    }
   },
   "cell_type": "code",
   "source": [
    "print(\"\\nP2. Disponibilidad de libros en la infancia y hábito de lectura\\n\")\n",
    "\n",
    "grupo_inf = df.dropna(subset=[\"infancia_libros\"]).groupby(\"infancia_libros\")\n",
    "conteos_inf = {}\n",
    "\n",
    "for g, sub in grupo_inf:\n",
    "    n_g = len(sub); x_g = int(sub[\"lector\"].sum())\n",
    "    p_g, lo_g, hi_g = ci_prop(x_g, n_g, alpha)\n",
    "    conteos_inf[g] = (x_g, n_g)\n",
    "    print(f\"- {g}: leen {x_g} de {n_g} ({p_g:.1%}). IC 95%: {lo_g:.1%} a {hi_g:.1%}.\")\n",
    "\n",
    "# Diferencia Alto - Bajo\n",
    "x_alt, n_alt = conteos_inf.get(\"Alto\", (0, 0))\n",
    "x_baj, n_baj = conteos_inf.get(\"Bajo\", (0, 0))\n",
    "\n",
    "print(\"\\nComparación clave:\")\n",
    "if n_alt>0 and n_baj>0:\n",
    "    d, lo, hi = ci_diff_prop(x_alt, n_alt, x_baj, n_baj, alpha)\n",
    "    print(f\"- Alto vs Bajo: diferencia de {d:.1%}. IC 95%: {lo:.1%} a {hi:.1%} \"\n",
    "          f\"({nota_conclusion(lo, hi)}).\")\n",
    "else:\n",
    "    print(\"- Alto vs Bajo: no hay suficientes datos.\")"
   ],
   "id": "521bf05c8f9c55f7",
   "outputs": [
    {
     "name": "stdout",
     "output_type": "stream",
     "text": [
      "\n",
      "P2. Disponibilidad de libros en la infancia y hábito de lectura\n",
      "\n",
      "- Alto: leen 38 de 54 (70.4%). IC 95%: 58.2% a 82.5%.\n",
      "- Bajo: leen 233 de 437 (53.3%). IC 95%: 48.6% a 58.0%.\n",
      "- Medio: leen 48 de 91 (52.7%). IC 95%: 42.5% a 63.0%.\n",
      "\n",
      "Comparación clave:\n",
      "- Alto vs Bajo: diferencia de 17.1%. IC 95%: 4.0% a 30.1% (diferencia clara).\n"
     ]
    }
   ],
   "execution_count": 24
  }
 ],
 "metadata": {
  "kernelspec": {
   "display_name": "Python 3",
   "language": "python",
   "name": "python3"
  },
  "language_info": {
   "codemirror_mode": {
    "name": "ipython",
    "version": 2
   },
   "file_extension": ".py",
   "mimetype": "text/x-python",
   "name": "python",
   "nbconvert_exporter": "python",
   "pygments_lexer": "ipython2",
   "version": "2.7.6"
  }
 },
 "nbformat": 4,
 "nbformat_minor": 5
}
