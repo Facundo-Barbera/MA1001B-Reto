{
 "cells": [
  {
   "metadata": {},
   "cell_type": "markdown",
   "source": [
    "# Análisis inferencial\n",
    "\n",
    "Este notebook busca crear un análisis inferencial de los datos explorados en la etapa 2. Se busca responde a las siguientes preguntas mediante a la definición de intervalos de confianza y pruebas de hipótesis:\n",
    "\n",
    "- ¿Qué relación existe entre el nivel educativo y el hábito de lectura de libros en México?\n",
    "- ¿Cómo influye la disponibilidad de libros en el hogar durante la infancia en los hábitos de lectura en la adultez?"
   ],
   "id": "c689220d72b405bb"
  },
  {
   "metadata": {},
   "cell_type": "markdown",
   "source": [
    "## Definición de valores iniciales\n",
    "\n",
    "Para el análisis inferencial debemos definir las hipótesis nula y alternativa, así como los valores iniciales que nos permitan realizar las pruebas de hipótesis y calcular los intervalos de confianza.\n",
    "\n",
    "### Pregunta 1\n",
    "\n",
    "- **Hipótesis nula (H0)**: Las proporciones de personas que leen son iguales en los distintos niveles educativos.\n",
    "- **Hipótesis alternativa (H1)**: Al menos una proporción es diferente entre los niveles educativos.\n",
    "\n",
    "Las proporciones de lectura en los distintos niveles educativos son:\n",
    "- P_bajo: 0, 1, 2, 3\n",
    "- P_medio: 4, 5, 6\n",
    "- P_alto: 7, 8, 9\n",
    "\n",
    "Las variables que se utilizarán para el análisis son:\n",
    "- `nivel`: Nivel educativo (1 a 9)\n",
    "- `p3_1`: Se leyeron libros en los últimos 12 meses\n",
    "- `p4`: Número de libros leídos en los últimos 12 meses\n",
    "\n",
    "## Pregunta 2\n",
    "\n",
    "- **Hipótesis nula (H0)**: Las proporciones de lectura en adultez son iguales entre los niveles de disponibilidad de libros en la infancia.\n",
    "- **Hipótesis alternativa (H1)**: Al menos una proporción es diferente entre los niveles de disponibilidad de libros en la infancia.\n",
    "\n",
    "Las proporciones de lectura en los distintos niveles de disponibilidad de libros en la infancia son:\n",
    "- P_bajo: 0, 1\n",
    "- P_medio: 2, 3\n",
    "- P_alto: 4, 5, 6\n",
    "\n",
    "Las variables que se utilizarán para el análisis son:\n",
    "- `p34_4`: Disponibilidad de libros en la infancia\n",
    "- `p34_4_1`: Cantidad de libros de la variante anterior\n",
    "- `p3_1`: Se leyeron libros en los últimos 12 meses"
   ],
   "id": "849cd43004a5e1ea"
  },
  {
   "cell_type": "code",
   "id": "initial_id",
   "metadata": {
    "collapsed": true,
    "ExecuteTime": {
     "end_time": "2025-07-28T21:50:51.033077Z",
     "start_time": "2025-07-28T21:50:51.030505Z"
    }
   },
   "source": [
    ""
   ],
   "outputs": [],
   "execution_count": null
  }
 ],
 "metadata": {
  "kernelspec": {
   "display_name": "Python 3",
   "language": "python",
   "name": "python3"
  },
  "language_info": {
   "codemirror_mode": {
    "name": "ipython",
    "version": 2
   },
   "file_extension": ".py",
   "mimetype": "text/x-python",
   "name": "python",
   "nbconvert_exporter": "python",
   "pygments_lexer": "ipython2",
   "version": "2.7.6"
  }
 },
 "nbformat": 4,
 "nbformat_minor": 5
}
